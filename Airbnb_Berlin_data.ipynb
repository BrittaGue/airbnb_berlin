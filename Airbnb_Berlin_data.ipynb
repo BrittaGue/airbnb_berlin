{
 "cells": [
  {
   "cell_type": "markdown",
   "metadata": {},
   "source": [
    "# Airbnb Berlin Data"
   ]
  },
  {
   "cell_type": "markdown",
   "metadata": {},
   "source": [
    "### Data\n"
   ]
  },
  {
   "cell_type": "markdown",
   "metadata": {},
   "source": [
    "The data used in this notebook was sourced from the Inside Airbnb website. I will analyze two sets of data, one called 'listings' which has information about the available Airbnb rentals in Berlin, their respective neighbourhoods and roomtypes as well as their price per night and another dataset called 'reviews_summary' which contains every available review/comment for each of the rental spaces.\n",
    "\n",
    "It can be downloaded here: https://www.kaggle.com/brittabettendorf/berlin-airbnb-data\n",
    "\n",
    "(listings.csv and reviews_summary.csv)\n"
   ]
  },
  {
   "cell_type": "markdown",
   "metadata": {},
   "source": [
    "### Objectives"
   ]
  },
  {
   "cell_type": "markdown",
   "metadata": {},
   "source": [
    "1. Find out which neighbourhood is (on average) the most expensive in Berlin (listings dataset)\n",
    "2. Find the adjectives that are being used the most in the comments - do visitors describe their experience positively or negatively? (reviews_summary dataset)\n",
    "3. Find the neighbourhood with the highest ‚greatness-score‘ (comments containing the word ‚great‘ divided by the sum of comments - for each neighbourhood, listings & reviews_summary dataset)"
   ]
  },
  {
   "cell_type": "code",
   "execution_count": 2,
   "metadata": {},
   "outputs": [],
   "source": [
    "import pandas as pd\n",
    "pd.plotting.register_matplotlib_converters()\n",
    "import matplotlib.pyplot as plt\n",
    "%matplotlib inline\n",
    "import seaborn as sns\n",
    "import queue"
   ]
  },
  {
   "cell_type": "markdown",
   "metadata": {},
   "source": [
    "First I'm importing the csv data files into dataframes so I can easily explore the data:"
   ]
  },
  {
   "cell_type": "code",
   "execution_count": 3,
   "metadata": {},
   "outputs": [],
   "source": [
    "listings = pd.read_csv('/Users/brit/Desktop/Kurse/data/berlin-airbnb-data/listings.csv')\n",
    "reviews_summary = pd.read_csv('/Users/brit/Desktop/Kurse/data/berlin-airbnb-data/reviews_summary.csv')"
   ]
  },
  {
   "cell_type": "markdown",
   "metadata": {},
   "source": [
    "### 1. Determine the most expensive neighbourhoods in Berlin"
   ]
  },
  {
   "cell_type": "markdown",
   "metadata": {},
   "source": [
    "To get a better understanding of the listings dataset, I will first print out the first five entries as well as the column names that I will later use to proceed with the data.\n",
    "My objective is to find out which neighbourhood is (on average) the most expensive in Berlin."
   ]
  },
  {
   "cell_type": "code",
   "execution_count": 4,
   "metadata": {},
   "outputs": [
    {
     "name": "stdout",
     "output_type": "stream",
     "text": [
      "     id                                              name  host_id host_name  \\\n",
      "0  2015  Berlin-Mitte Value! Quiet courtyard/very central     2217       Ian   \n",
      "1  2695                Prenzlauer Berg close to Mauerpark     2986   Michael   \n",
      "2  3176                   Fabulous Flat in great Location     3718    Britta   \n",
      "3  3309                 BerlinSpot Schöneberg near KaDeWe     4108      Jana   \n",
      "4  7071                  BrightRoom with sunny greenview!    17391    Bright   \n",
      "\n",
      "      neighbourhood_group             neighbourhood   latitude  longitude  \\\n",
      "0                   Mitte           Brunnenstr. Süd  52.534537  13.402557   \n",
      "1                  Pankow  Prenzlauer Berg Nordwest  52.548513  13.404553   \n",
      "2                  Pankow   Prenzlauer Berg Südwest  52.534996  13.417579   \n",
      "3  Tempelhof - Schöneberg           Schöneberg-Nord  52.498855  13.349065   \n",
      "4                  Pankow            Helmholtzplatz  52.543157  13.415091   \n",
      "\n",
      "         room_type  price  minimum_nights  number_of_reviews last_review  \\\n",
      "0  Entire home/apt     60               4                118  2018-10-28   \n",
      "1     Private room     17               2                  6  2018-10-01   \n",
      "2  Entire home/apt     90              62                143  2017-03-20   \n",
      "3     Private room     26               5                 25  2018-08-16   \n",
      "4     Private room     42               2                197  2018-11-04   \n",
      "\n",
      "   reviews_per_month  calculated_host_listings_count  availability_365  \n",
      "0               3.76                               4               141  \n",
      "1               1.42                               1                 0  \n",
      "2               1.25                               1               220  \n",
      "3               0.39                               1               297  \n",
      "4               1.75                               1                26  \n"
     ]
    }
   ],
   "source": [
    "print(listings.head(5))"
   ]
  },
  {
   "cell_type": "markdown",
   "metadata": {},
   "source": [
    "To find out the names of all entries in the neighbourhood_group column, I will use the .unique() function. We can see that all entries are are listed under 12 different neighbourhood_groups."
   ]
  },
  {
   "cell_type": "code",
   "execution_count": 5,
   "metadata": {},
   "outputs": [
    {
     "data": {
      "text/plain": [
       "array(['Mitte', 'Pankow', 'Tempelhof - Schöneberg',\n",
       "       'Friedrichshain-Kreuzberg', 'Neukölln', 'Charlottenburg-Wilm.',\n",
       "       'Treptow - Köpenick', 'Steglitz - Zehlendorf', 'Reinickendorf',\n",
       "       'Lichtenberg', 'Marzahn - Hellersdorf', 'Spandau'], dtype=object)"
      ]
     },
     "execution_count": 5,
     "metadata": {},
     "output_type": "execute_result"
    }
   ],
   "source": [
    "listings.neighbourhood_group.unique()"
   ]
  },
  {
   "cell_type": "markdown",
   "metadata": {},
   "source": [
    "As prices for shared rooms will most likely differ a lot from prices for a whole apartment, we will have a look at the room_type column. There are three different types of entries 'Entire home/apt', 'Private room' and 'Shared room'."
   ]
  },
  {
   "cell_type": "code",
   "execution_count": 6,
   "metadata": {},
   "outputs": [
    {
     "data": {
      "text/plain": [
       "array(['Entire home/apt', 'Private room', 'Shared room'], dtype=object)"
      ]
     },
     "execution_count": 6,
     "metadata": {},
     "output_type": "execute_result"
    }
   ],
   "source": [
    "listings.room_type.unique()"
   ]
  },
  {
   "cell_type": "markdown",
   "metadata": {},
   "source": [
    "I now create a new dataframe, which is grouped by neighbourhood_group and each category of neighbourhood_group is then grouped by room_type to get the average price per room_type for each of the 12 neighbourhoods in Berlin."
   ]
  },
  {
   "cell_type": "code",
   "execution_count": 7,
   "metadata": {},
   "outputs": [],
   "source": [
    "listings_grouped = listings.groupby(['neighbourhood_group', 'room_type'])['price'].mean()"
   ]
  },
  {
   "cell_type": "code",
   "execution_count": 8,
   "metadata": {},
   "outputs": [
    {
     "name": "stdout",
     "output_type": "stream",
     "text": [
      "neighbourhood_group       room_type      \n",
      "Charlottenburg-Wilm.      Entire home/apt    104.386792\n",
      "                          Private room       128.621697\n",
      "                          Shared room         36.800000\n",
      "Friedrichshain-Kreuzberg  Entire home/apt     80.951111\n",
      "                          Private room        44.445568\n",
      "                          Shared room         39.127273\n",
      "Lichtenberg               Entire home/apt     69.211604\n",
      "                          Private room        47.007833\n",
      "                          Shared room         26.916667\n",
      "Marzahn - Hellersdorf     Entire home/apt     74.862500\n",
      "                          Private room        33.428571\n",
      "                          Shared room         21.200000\n",
      "Mitte                     Entire home/apt     99.936494\n",
      "                          Private room        41.992133\n",
      "                          Shared room         30.299065\n",
      "Neukölln                  Entire home/apt     64.221657\n",
      "                          Private room        35.179133\n",
      "                          Shared room         30.375000\n",
      "Pankow                    Entire home/apt     80.499497\n",
      "                          Private room        48.504924\n",
      "                          Shared room        208.466667\n",
      "Reinickendorf             Entire home/apt     62.121739\n",
      "                          Private room        35.539062\n",
      "                          Shared room         57.000000\n",
      "Spandau                   Entire home/apt     76.125000\n",
      "                          Private room        33.166667\n",
      "                          Shared room         37.000000\n",
      "Steglitz - Zehlendorf     Entire home/apt     76.004464\n",
      "                          Private room        35.767773\n",
      "                          Shared room         21.500000\n",
      "Tempelhof - Schöneberg    Entire home/apt     79.023710\n",
      "                          Private room       113.495726\n",
      "                          Shared room         43.333333\n",
      "Treptow - Köpenick        Entire home/apt     68.305369\n",
      "                          Private room        36.300341\n",
      "                          Shared room         19.500000\n",
      "Name: price, dtype: float64\n"
     ]
    }
   ],
   "source": [
    "print(listings_grouped)"
   ]
  },
  {
   "cell_type": "markdown",
   "metadata": {},
   "source": [
    "=> There seems to be an extremely high average price for shared rooms in **Pankow**, so we will have a closer look \n",
    "at the price distribution in the listings data set\n"
   ]
  },
  {
   "cell_type": "code",
   "execution_count": 9,
   "metadata": {},
   "outputs": [
    {
     "data": {
      "text/plain": [
       "count    22552.000000\n",
       "mean        67.143668\n",
       "std        220.266210\n",
       "min          0.000000\n",
       "25%         30.000000\n",
       "50%         45.000000\n",
       "75%         70.000000\n",
       "max       9000.000000\n",
       "Name: price, dtype: float64"
      ]
     },
     "execution_count": 9,
     "metadata": {},
     "output_type": "execute_result"
    }
   ],
   "source": [
    "listings['price'].describe()"
   ]
  },
  {
   "cell_type": "code",
   "execution_count": 10,
   "metadata": {},
   "outputs": [
    {
     "data": {
      "image/png": "[encoded data removed]",
      "text/plain": [
       "<Figure size 1152x144 with 1 Axes>"
      ]
     },
     "metadata": {
      "needs_background": "light"
     },
     "output_type": "display_data"
    }
   ],
   "source": [
    "red_square = dict(markerfacecolor='r', markeredgecolor='r', marker='.')\n",
    "listings['price'].plot(kind='box', xlim=(0, 1000), vert=False, flierprops=red_square, figsize=(16,2));"
   ]
  },
  {
   "cell_type": "code",
   "execution_count": 11,
   "metadata": {},
   "outputs": [
    {
     "name": "stdout",
     "output_type": "stream",
     "text": [
      "270.0\n"
     ]
    }
   ],
   "source": [
    "q = listings['price'].quantile(0.99)\n",
    "print(q)"
   ]
  },
  {
   "cell_type": "markdown",
   "metadata": {},
   "source": [
    "75% of all prices for Airbnb rentals only cost up to 70 €. \n",
    "99% of all prices for Airbnb rentals only cost up to 270 € (while prices for rentals go up to a maximum of 9000 €/night))\n",
    "\n",
    "=> For better comparability I'm cutting off prices higher than 270 €/night \n",
    "I will first find all their indexes and then drop them from the listings dataset."
   ]
  },
  {
   "cell_type": "code",
   "execution_count": 12,
   "metadata": {},
   "outputs": [],
   "source": [
    "index_new = listings[listings.price > 270].index\n",
    "listings.drop(index_new , inplace=True)"
   ]
  },
  {
   "cell_type": "markdown",
   "metadata": {},
   "source": [
    "Now I will visualize the data of the listings dataset, with only entries left that cost less than 270 €/night. By eliminating entries above 270 €/night, we can now see that the average price for a shared room in Pankow has reached a more realistic level."
   ]
  },
  {
   "cell_type": "code",
   "execution_count": 13,
   "metadata": {},
   "outputs": [
    {
     "data": {
      "text/plain": [
       "<seaborn.axisgrid.FacetGrid at 0x1a2327f310>"
      ]
     },
     "execution_count": 13,
     "metadata": {},
     "output_type": "execute_result"
    },
    {
     "data": {
      "image/png": "[encoded data removed]",
      "text/plain": [
       "<Figure size 836.5x720 with 1 Axes>"
      ]
     },
     "metadata": {
      "needs_background": "light"
     },
     "output_type": "display_data"
    }
   ],
   "source": [
    "flatui = [\"#9b59b6\", \"#3498db\", \"#95a5a6\", \"#e74c3c\", \"#34495e\", \"#2ecc71\"]\n",
    "sns.catplot(y=\"neighbourhood_group\", x=\"price\", hue=\"room_type\", data=listings, palette = flatui, kind=\"bar\", height=10)"
   ]
  },
  {
   "cell_type": "code",
   "execution_count": 14,
   "metadata": {},
   "outputs": [
    {
     "name": "stdout",
     "output_type": "stream",
     "text": [
      "neighbourhood_group       room_type      \n",
      "Charlottenburg-Wilm.      Entire home/apt    76.744552\n",
      "                          Private room       42.402560\n",
      "                          Shared room        36.800000\n",
      "Friedrichshain-Kreuzberg  Entire home/apt    76.591912\n",
      "                          Private room       40.551724\n",
      "                          Shared room        28.759259\n",
      "Lichtenberg               Entire home/apt    64.979239\n",
      "                          Private room       34.041885\n",
      "                          Shared room        26.916667\n",
      "Marzahn - Hellersdorf     Entire home/apt    74.862500\n",
      "                          Private room       33.428571\n",
      "                          Shared room        21.200000\n",
      "Mitte                     Entire home/apt    84.822581\n",
      "                          Private room       40.564665\n",
      "                          Shared room        30.299065\n",
      "Neukölln                  Entire home/apt    61.898243\n",
      "                          Private room       34.902718\n",
      "                          Shared room        30.375000\n",
      "Pankow                    Entire home/apt    77.532487\n",
      "                          Private room       41.445030\n",
      "                          Shared room        43.241379\n",
      "Reinickendorf             Entire home/apt    54.947368\n",
      "                          Private room       35.539062\n",
      "                          Shared room        57.000000\n",
      "Spandau                   Entire home/apt    68.442857\n",
      "                          Private room       33.166667\n",
      "                          Shared room        37.000000\n",
      "Steglitz - Zehlendorf     Entire home/apt    70.118182\n",
      "                          Private room       35.767773\n",
      "                          Shared room        21.500000\n",
      "Tempelhof - Schöneberg    Entire home/apt    71.725462\n",
      "                          Private room       39.597274\n",
      "                          Shared room        43.333333\n",
      "Treptow - Köpenick        Entire home/apt    65.542373\n",
      "                          Private room       35.397260\n",
      "                          Shared room        19.500000\n",
      "Name: price, dtype: float64\n"
     ]
    }
   ],
   "source": [
    "listings_grouped = listings.groupby(['neighbourhood_group', 'room_type'])['price'].mean()\n",
    "print(listings_grouped)"
   ]
  },
  {
   "cell_type": "markdown",
   "metadata": {},
   "source": [
    "There still seem to be some odd values in the dataset for shared rooms in Reinickendorf and Spandau that we could look into now, but from the data we have, we can already tell that\n",
    "\n",
    "=> Visitors to Berlin have to pay the highest prices for an entire home in Mitte (on average 84,82 €)"
   ]
  },
  {
   "cell_type": "markdown",
   "metadata": {},
   "source": [
    "### 2. Analyzing the words used in the reviews/comments column"
   ]
  },
  {
   "cell_type": "markdown",
   "metadata": {},
   "source": [
    "Without looking at the review score (which is available in a different dataset on the Inside Airbnb website) I want to have a look at the words that people who come to Berlin use to describe their stay - are they being rather positive or negative in their descriptions?\n",
    "\n",
    "As the string search does not work with NaN values, we need to drop them first before iterating over each cell.\n",
    "\n",
    "There are over 400.000 entries in the dataset, so we will only focus on the first 1000 entries in the dataset to get an idea of the words used most often in the comments."
   ]
  },
  {
   "cell_type": "code",
   "execution_count": 15,
   "metadata": {},
   "outputs": [
    {
     "name": "stdout",
     "output_type": "stream",
     "text": [
      "401467\n"
     ]
    }
   ],
   "source": [
    "reviews_summary.isna().sum()\n",
    "reviews_summary = reviews_summary.dropna()\n",
    "print(len(reviews_summary))"
   ]
  },
  {
   "cell_type": "markdown",
   "metadata": {},
   "source": [
    "To count the words used most often in the reviews, I will store them in a dictionary, counting the occurence of each word in the first 2000 reviews. I will filter out some commonly used words using the nltk stopwords. Then printing out the 35 words that have been used the most by turning the dictionary into a dataframe and sorting by 'count'."
   ]
  },
  {
   "cell_type": "code",
   "execution_count": 17,
   "metadata": {},
   "outputs": [],
   "source": [
    "import nltk\n",
    "from nltk.corpus import stopwords\n",
    "\n",
    "stop_words = stopwords.words('german') + stopwords.words('english')\n",
    "\n",
    "count_words_1 = reviews_summary.comments.head(2000)\n",
    "d = {}\n",
    "\n",
    "for line in count_words_1:\n",
    "    for word in line.split():\n",
    "        if word not in stop_words:\n",
    "            if word in d:\n",
    "                d[word] = d[word] + 1\n",
    "            else:\n",
    "                d[word] = 1\n",
    "        else:\n",
    "            pass"
   ]
  },
  {
   "cell_type": "code",
   "execution_count": 27,
   "metadata": {},
   "outputs": [
    {
     "name": "stdout",
     "output_type": "stream",
     "text": [
      "             word  count\n",
      "53            The   1232\n",
      "271             I    917\n",
      "54      apartment    811\n",
      "55          great    750\n",
      "181          stay    544\n",
      "180            We    516\n",
      "188         place    458\n",
      "60           nice    436\n",
      "206      location    382\n",
      "294            us    339\n",
      "318        Berlin    333\n",
      "272         would    330\n",
      "75             de    320\n",
      "105        really    308\n",
      "417     recommend    307\n",
      "95        Berlin.    303\n",
      "202          good    277\n",
      "564          room    265\n",
      "104            It    264\n",
      "232          well    255\n",
      "461          flat    251\n",
      "918             -    251\n",
      "668         clean    243\n",
      "207         close    242\n",
      "234    everything    242\n",
      "205         Great    227\n",
      "192       perfect    222\n",
      "213   restaurants    214\n",
      "258          easy    213\n",
      "64           time    203\n",
      "5920      Wolfram    194\n",
      "97             et    190\n",
      "540    definitely    176\n",
      "165       Wohnung    169\n",
      "612          host    163\n"
     ]
    }
   ],
   "source": [
    "series = pd.Series(d) \n",
    "d_to_df = pd.DataFrame(list(d.items()), columns=['word', 'count']).sort_values(by='count', ascending=False)\n",
    "print(d_to_df.head(35))"
   ]
  },
  {
   "cell_type": "markdown",
   "metadata": {},
   "source": [
    "Here we can see that the adjectives most often used in the reviews are 'nice' and 'great'.\n",
    "\n",
    "=> So overall visitors who came to Berlin seem to have had quite a positive experience\n",
    "\n",
    "Also the name 'Wolfram' is mentioned a few times, so let's find out more about him."
   ]
  },
  {
   "cell_type": "code",
   "execution_count": 19,
   "metadata": {},
   "outputs": [
    {
     "data": {
      "text/plain": [
       "14"
      ]
     },
     "execution_count": 19,
     "metadata": {},
     "output_type": "execute_result"
    }
   ],
   "source": [
    "df_wolfram = reviews_summary[reviews_summary['comments'].str.contains(\"Wolfram\")]\n",
    "len(df_wolfram.listing_id.unique())"
   ]
  },
  {
   "cell_type": "markdown",
   "metadata": {},
   "source": [
    "=> Wolfram seems to be listed for 14 different listing ids\n"
   ]
  },
  {
   "cell_type": "code",
   "execution_count": 20,
   "metadata": {},
   "outputs": [
    {
     "name": "stdout",
     "output_type": "stream",
     "text": [
      "     listing_id       id        date  reviewer_id reviewer_name  \\\n",
      "568       17409  1350474  2012-05-26      2064830      Jonathan   \n",
      "569       17409  1376775  2012-05-29        12602        Nathan   \n",
      "570       17409  1421239  2012-06-05      2278460        Sergio   \n",
      "571       17409  2170680  2012-09-02      3003307       Paulina   \n",
      "573       17409  2440170  2012-09-28      1699663       Cyrille   \n",
      "\n",
      "                                              comments  \n",
      "568  I stayed here for 37 nights and would very gla...  \n",
      "569  Wolfram was a fantastic host-- helpful, attent...  \n",
      "570  Wolfram es muy amable y dispuesto. Fue muy int...  \n",
      "571  Wolfram was a very good host and really consid...  \n",
      "573  It was awesome! Room is huge, Wolfram was so n...  \n"
     ]
    }
   ],
   "source": [
    "print(df_wolfram.head(5))"
   ]
  },
  {
   "cell_type": "markdown",
   "metadata": {},
   "source": [
    "By looking at the comments it seems like => Wolfram is a cool guy!"
   ]
  },
  {
   "cell_type": "markdown",
   "metadata": {},
   "source": [
    "### 3. Evaluate how 'great' the neighbourhoods are"
   ]
  },
  {
   "cell_type": "markdown",
   "metadata": {},
   "source": [
    "I'd like to find the neighbourhoods with the highest **greatness-score** by counting the number of comments that use the word 'great' in the comments-columns, matching them with their respective neighbourhoods and dividing the sum by the total number of reviews for each neighbourhood.\n",
    " \n",
    "First I create a new dataframe 'great_df' that consists of all reviews that contain the word 'great' in their comments and set the index to their 'listings_id'."
   ]
  },
  {
   "cell_type": "code",
   "execution_count": 21,
   "metadata": {},
   "outputs": [
    {
     "name": "stdout",
     "output_type": "stream",
     "text": [
      "                   id        date  reviewer_id reviewer_name  \\\n",
      "listing_id                                                     \n",
      "2015         69990732  2016-04-15     41944715        Hannah   \n",
      "2015         94413135  2016-08-15     79022747        Helena   \n",
      "2015        105812314  2016-10-03     40666870        Andrew   \n",
      "2015        108776791  2016-10-17     13902297         Molly   \n",
      "2015        112250225  2016-11-05     40117062         Elena   \n",
      "...               ...         ...          ...           ...   \n",
      "29556108    345869926  2018-11-06     59490435          Maya   \n",
      "29605752    344319675  2018-11-03     48448074          Alix   \n",
      "29623474    344219926  2018-11-03     26777336       Antonis   \n",
      "29640657    343947591  2018-11-02    222267323       Shriram   \n",
      "29640657    345497600  2018-11-05     72296860        Lenard   \n",
      "\n",
      "                                                     comments  \n",
      "listing_id                                                     \n",
      "2015        Jan was very friendly and welcoming host! The ...  \n",
      "2015                                                   great   \n",
      "2015        Jan's apartment was perfect for our four night...  \n",
      "2015        Jan is great! Super welcoming and available fo...  \n",
      "2015        very nice apartment, welcoming host, great pla...  \n",
      "...                                                       ...  \n",
      "29556108    The apartment is beautiful, comfortable beds, ...  \n",
      "29605752    Sharon’s room is great, especially for a solo ...  \n",
      "29623474    Stephanie and her mother were really great. Th...  \n",
      "29640657    Great place to stay and a bit far though. Valu...  \n",
      "29640657    The place is great. Very spacey and clean, wit...  \n",
      "\n",
      "[92145 rows x 5 columns]\n"
     ]
    }
   ],
   "source": [
    "great_df = reviews_summary[reviews_summary.comments.map(lambda desc: \"great\" in desc)].set_index('listing_id')\n",
    "print(great_df)"
   ]
  },
  {
   "cell_type": "markdown",
   "metadata": {},
   "source": [
    "Now I am able to merge this new dataframe with the listings dataframe, matching each 'listings_id' from 'great_df' with the 'id' from 'listings'. This allows me to match every comment with a specific 'neighbourhood_group'."
   ]
  },
  {
   "cell_type": "code",
   "execution_count": 22,
   "metadata": {},
   "outputs": [],
   "source": [
    "merged = great_df.merge(listings, how='left', left_on='listing_id', right_on='id')"
   ]
  },
  {
   "cell_type": "markdown",
   "metadata": {},
   "source": [
    "I can now count how many comments containing the word 'great' each 'neighbourhood_group' has and store it in a series called 'neighbourhood_greatness'. I will then count the total number of reviews for each 'neighbourhood_group' and store it in a series called 'review_total' and then concatenate both series and rename the columns."
   ]
  },
  {
   "cell_type": "code",
   "execution_count": 23,
   "metadata": {},
   "outputs": [],
   "source": [
    "neighbourhood_greatness = merged.groupby('neighbourhood_group')['neighbourhood_group'].count()\n",
    "review_total = listings.groupby('neighbourhood_group')['number_of_reviews'].sum()"
   ]
  },
  {
   "cell_type": "code",
   "execution_count": 24,
   "metadata": {},
   "outputs": [
    {
     "name": "stdout",
     "output_type": "stream",
     "text": [
      "                          great_sum  reviews_sum\n",
      "neighbourhood_group                             \n",
      "Charlottenburg-Wilm.           4386        28406\n",
      "Friedrichshain-Kreuzberg      25310        95860\n",
      "Lichtenberg                    1484         9257\n",
      "Marzahn - Hellersdorf           263         2408\n",
      "Mitte                         23262       100912\n",
      "Neukölln                      11861        45724\n",
      "Pankow                        16762        69408\n",
      "Reinickendorf                   653         5089\n",
      "Spandau                         138         1572\n",
      "Steglitz - Zehlendorf           664         5592\n",
      "Tempelhof - Schöneberg         5290        26642\n",
      "Treptow - Köpenick             1232         8098\n"
     ]
    }
   ],
   "source": [
    "greatness_index = pd.concat([neighbourhood_greatness, review_total], axis=1)\n",
    "greatness_index.columns = ['great_sum', 'reviews_sum']\n",
    "print(greatness_index)"
   ]
  },
  {
   "cell_type": "markdown",
   "metadata": {},
   "source": [
    "Finally I will append another column, the 'greatness_score', by dividing the sum of reviews containing the word great by the total number of reviews for each 'neighbourhood_group'."
   ]
  },
  {
   "cell_type": "code",
   "execution_count": 25,
   "metadata": {},
   "outputs": [
    {
     "name": "stdout",
     "output_type": "stream",
     "text": [
      "                          great_sum  reviews_sum  greatness_score\n",
      "neighbourhood_group                                              \n",
      "Friedrichshain-Kreuzberg      25310        95860         0.264031\n",
      "Neukölln                      11861        45724         0.259404\n",
      "Pankow                        16762        69408         0.241500\n",
      "Mitte                         23262       100912         0.230518\n",
      "Tempelhof - Schöneberg         5290        26642         0.198559\n",
      "Lichtenberg                    1484         9257         0.160311\n",
      "Charlottenburg-Wilm.           4386        28406         0.154404\n",
      "Treptow - Köpenick             1232         8098         0.152136\n",
      "Reinickendorf                   653         5089         0.128316\n",
      "Steglitz - Zehlendorf           664         5592         0.118741\n",
      "Marzahn - Hellersdorf           263         2408         0.109219\n",
      "Spandau                         138         1572         0.087786\n"
     ]
    }
   ],
   "source": [
    "greatness_index['greatness_score'] = greatness_index.apply(lambda row: (row['great_sum']/row['reviews_sum']), axis=1)\n",
    "greatness_index = greatness_index.sort_values(by=['greatness_score'], ascending=False)\n",
    "print(greatness_index)"
   ]
  },
  {
   "cell_type": "code",
   "execution_count": 26,
   "metadata": {},
   "outputs": [
    {
     "data": {
      "text/html": [
       "<div>\n",
       "<style scoped>\n",
       "    .dataframe tbody tr th:only-of-type {\n",
       "        vertical-align: middle;\n",
       "    }\n",
       "\n",
       "    .dataframe tbody tr th {\n",
       "        vertical-align: top;\n",
       "    }\n",
       "\n",
       "    .dataframe thead th {\n",
       "        text-align: right;\n",
       "    }\n",
       "</style>\n",
       "<table border=\"1\" class=\"dataframe\">\n",
       "  <thead>\n",
       "    <tr style=\"text-align: right;\">\n",
       "      <th></th>\n",
       "      <th>neighbourhood_group</th>\n",
       "      <th>great_sum</th>\n",
       "      <th>reviews_sum</th>\n",
       "      <th>greatness_score</th>\n",
       "    </tr>\n",
       "  </thead>\n",
       "  <tbody>\n",
       "    <tr>\n",
       "      <td>0</td>\n",
       "      <td>Friedrichshain-Kreuzberg</td>\n",
       "      <td>25310</td>\n",
       "      <td>95860</td>\n",
       "      <td>0.264031</td>\n",
       "    </tr>\n",
       "    <tr>\n",
       "      <td>1</td>\n",
       "      <td>Neukölln</td>\n",
       "      <td>11861</td>\n",
       "      <td>45724</td>\n",
       "      <td>0.259404</td>\n",
       "    </tr>\n",
       "    <tr>\n",
       "      <td>2</td>\n",
       "      <td>Pankow</td>\n",
       "      <td>16762</td>\n",
       "      <td>69408</td>\n",
       "      <td>0.241500</td>\n",
       "    </tr>\n",
       "    <tr>\n",
       "      <td>3</td>\n",
       "      <td>Mitte</td>\n",
       "      <td>23262</td>\n",
       "      <td>100912</td>\n",
       "      <td>0.230518</td>\n",
       "    </tr>\n",
       "    <tr>\n",
       "      <td>4</td>\n",
       "      <td>Tempelhof - Schöneberg</td>\n",
       "      <td>5290</td>\n",
       "      <td>26642</td>\n",
       "      <td>0.198559</td>\n",
       "    </tr>\n",
       "    <tr>\n",
       "      <td>5</td>\n",
       "      <td>Lichtenberg</td>\n",
       "      <td>1484</td>\n",
       "      <td>9257</td>\n",
       "      <td>0.160311</td>\n",
       "    </tr>\n",
       "    <tr>\n",
       "      <td>6</td>\n",
       "      <td>Charlottenburg-Wilm.</td>\n",
       "      <td>4386</td>\n",
       "      <td>28406</td>\n",
       "      <td>0.154404</td>\n",
       "    </tr>\n",
       "    <tr>\n",
       "      <td>7</td>\n",
       "      <td>Treptow - Köpenick</td>\n",
       "      <td>1232</td>\n",
       "      <td>8098</td>\n",
       "      <td>0.152136</td>\n",
       "    </tr>\n",
       "    <tr>\n",
       "      <td>8</td>\n",
       "      <td>Reinickendorf</td>\n",
       "      <td>653</td>\n",
       "      <td>5089</td>\n",
       "      <td>0.128316</td>\n",
       "    </tr>\n",
       "    <tr>\n",
       "      <td>9</td>\n",
       "      <td>Steglitz - Zehlendorf</td>\n",
       "      <td>664</td>\n",
       "      <td>5592</td>\n",
       "      <td>0.118741</td>\n",
       "    </tr>\n",
       "    <tr>\n",
       "      <td>10</td>\n",
       "      <td>Marzahn - Hellersdorf</td>\n",
       "      <td>263</td>\n",
       "      <td>2408</td>\n",
       "      <td>0.109219</td>\n",
       "    </tr>\n",
       "    <tr>\n",
       "      <td>11</td>\n",
       "      <td>Spandau</td>\n",
       "      <td>138</td>\n",
       "      <td>1572</td>\n",
       "      <td>0.087786</td>\n",
       "    </tr>\n",
       "  </tbody>\n",
       "</table>\n",
       "</div>"
      ],
      "text/plain": [
       "         neighbourhood_group  great_sum  reviews_sum  greatness_score\n",
       "0   Friedrichshain-Kreuzberg      25310        95860         0.264031\n",
       "1                   Neukölln      11861        45724         0.259404\n",
       "2                     Pankow      16762        69408         0.241500\n",
       "3                      Mitte      23262       100912         0.230518\n",
       "4     Tempelhof - Schöneberg       5290        26642         0.198559\n",
       "5                Lichtenberg       1484         9257         0.160311\n",
       "6       Charlottenburg-Wilm.       4386        28406         0.154404\n",
       "7         Treptow - Köpenick       1232         8098         0.152136\n",
       "8              Reinickendorf        653         5089         0.128316\n",
       "9      Steglitz - Zehlendorf        664         5592         0.118741\n",
       "10     Marzahn - Hellersdorf        263         2408         0.109219\n",
       "11                   Spandau        138         1572         0.087786"
      ]
     },
     "execution_count": 26,
     "metadata": {},
     "output_type": "execute_result"
    }
   ],
   "source": [
    "greatness_index.reset_index()"
   ]
  },
  {
   "cell_type": "code",
   "execution_count": 27,
   "metadata": {},
   "outputs": [
    {
     "data": {
      "text/plain": [
       "<matplotlib.axes._subplots.AxesSubplot at 0x1a17feb990>"
      ]
     },
     "execution_count": 27,
     "metadata": {},
     "output_type": "execute_result"
    },
    {
     "data": {
      "image/png": "[encoded data removed]",
      "text/plain": [
       "<Figure size 648x432 with 1 Axes>"
      ]
     },
     "metadata": {
      "needs_background": "light"
     },
     "output_type": "display_data"
    }
   ],
   "source": [
    "plt.figure(figsize=(9,6))\n",
    "sns.barplot(x= 'greatness_score', y=greatness_index.index, data=greatness_index)"
   ]
  },
  {
   "cell_type": "markdown",
   "metadata": {},
   "source": [
    "=> The plot shows that Friedrichshain-Kreuzberg is the neighbourhood with the highest 'greatness-score' in Berlin, Spandau has the lowest."
   ]
  },
  {
   "cell_type": "code",
   "execution_count": null,
   "metadata": {},
   "outputs": [],
   "source": []
  }
 ],
 "metadata": {
  "kernelspec": {
   "display_name": "Python 3",
   "language": "python",
   "name": "python3"
  },
  "language_info": {
   "codemirror_mode": {
    "name": "ipython",
    "version": 3
   },
   "file_extension": ".py",
   "mimetype": "text/x-python",
   "name": "python",
   "nbconvert_exporter": "python",
   "pygments_lexer": "ipython3",
   "version": "3.7.4"
  }
 },
 "nbformat": 4,
 "nbformat_minor": 2
}
